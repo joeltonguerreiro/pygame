{
 "cells": [
  {
   "cell_type": "code",
   "execution_count": 53,
   "metadata": {},
   "outputs": [
    {
     "name": "stdout",
     "output_type": "stream",
     "text": [
      "w1 [[ 0.15586087  0.21714677  0.73610851 -0.70263048  0.17323694 -0.32582745\n",
      "  -0.64508435  0.59914251  0.25551815  0.11904985]\n",
      " [ 0.9341528   0.50311677 -0.77520803 -0.13654053 -0.86025139 -0.18257525\n",
      "  -0.55713657  0.70981824  0.56152824  0.54608489]]\n"
     ]
    }
   ],
   "source": [
    "import numpy as np\n",
    "import json\n",
    "import os\n",
    "\n",
    "def sigmoid(x, derivative=False):\n",
    "    return x*(1.0-x) if derivative else 1.0/(1.0+np.exp(-x))\n",
    "    #return np.greater(x,0).astype(int) if derivative else np.maximum(x,0,x)\n",
    "\n",
    "class NeuralNet:\n",
    "\n",
    "    def __init__(self, base_in, base_out, input_size, hidden_size, output_size, bias=1, learning_rate=0.1):\n",
    "\n",
    "        self.input = base_in\n",
    "        self.y = base_out\n",
    "\n",
    "        self.input_size = input_size\n",
    "        self.hidden_size = hidden_size\n",
    "        self.output_size = output_size\n",
    "        self.bias = bias\n",
    "        self.learning_rate = learning_rate\n",
    "        \n",
    "        self.w1 = np.random.uniform(-1., 1., (input_size,hidden_size))\n",
    "        print('w1', self.w1)\n",
    "        self.w2 = np.random.uniform(-1., 1., (hidden_size,hidden_size))\n",
    "        self.w3 = np.random.uniform(-1., 1., (hidden_size,output_size))\n",
    "\n",
    "    def feedforward(self, input=None):\n",
    "        input_array = []\n",
    "\n",
    "        if input is None:\n",
    "            input_array = np.array(self.input, ndmin=2)\n",
    "        else:\n",
    "            input_array = np.array(input, ndmin=2)\n",
    "\n",
    "        self.layer1 = sigmoid(np.dot(input_array, self.w1) + self.bias)\n",
    "        self.layer2 = sigmoid(np.dot(self.layer1, self.w2) + self.bias)\n",
    "        self.output = sigmoid(np.dot(self.layer2, self.w3) + self.bias)\n",
    "    \n",
    "    def backpropagation(self):\n",
    "        # application of the chain rule to find derivative of the loss function with respect to weights2 and weights1\n",
    "        d_weights3 = np.dot(self.layer2.T, (2*(self.y - self.output) * sigmoid(self.output, True)))\n",
    "        d_weights2 = np.dot(self.layer1.T,  (np.dot(2*(self.y - self.output) * sigmoid(self.output, True), self.w3.T) * sigmoid(self.layer2, True)))\n",
    "        \n",
    "        \n",
    "        \n",
    "        produto1 = np.dot(2*(self.y - self.output) * sigmoid(self.output, True), self.w3.T)\n",
    "        produto2 = np.dot(produto1, self.w2.T) * sigmoid(self.layer1, True)\n",
    "        \n",
    "        #print('input', self.input.T)\n",
    "        #print('produto2', produto2)\n",
    "        \n",
    "        d_weights1 = np.dot(self.input.T, (produto2))\n",
    "\n",
    "        # update the weights with the derivative (slope) of the loss function\n",
    "        self.w1 += d_weights1 * self.learning_rate\n",
    "        self.w2 += d_weights2 * self.learning_rate\n",
    "        self.w3 += d_weights3 * self.learning_rate\n",
    "    \n",
    "    def get_output(self, input=None):\n",
    "        if input == None:\n",
    "            self.feedforward()\n",
    "        else:\n",
    "            self.feedforward(input)\n",
    "        return self.output\n",
    "    \n",
    "    \n",
    "input = np.array([[1,1], [1,0], [0,1], [0,0], [1,1]])\n",
    "out = np.array([[0], [1], [1], [0], [0]])\n",
    "\n",
    "neural_net = NeuralNet(base_in=input, base_out=out, input_size=2, hidden_size=10, output_size=1)\n",
    "\n",
    "for i in range(500):\n",
    "        neural_net.feedforward()\n",
    "        neural_net.backpropagation()\n",
    "        \n"
   ]
  },
  {
   "cell_type": "code",
   "execution_count": 54,
   "metadata": {},
   "outputs": [
    {
     "name": "stdout",
     "output_type": "stream",
     "text": [
      "[[0.51874622]]\n",
      "[[0.42205794]]\n"
     ]
    }
   ],
   "source": [
    "print(neural_net.get_output([0,0]))\n",
    "print(neural_net.get_output([0,1]))"
   ]
  }
 ],
 "metadata": {
  "kernelspec": {
   "display_name": "Python 3",
   "language": "python",
   "name": "python3"
  },
  "language_info": {
   "codemirror_mode": {
    "name": "ipython",
    "version": 3
   },
   "file_extension": ".py",
   "mimetype": "text/x-python",
   "name": "python",
   "nbconvert_exporter": "python",
   "pygments_lexer": "ipython3",
   "version": "3.7.3"
  }
 },
 "nbformat": 4,
 "nbformat_minor": 2
}
