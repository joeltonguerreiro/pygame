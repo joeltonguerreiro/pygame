{
 "cells": [
  {
   "cell_type": "code",
   "execution_count": null,
   "metadata": {},
   "outputs": [
    {
     "name": "stdout",
     "output_type": "stream",
     "text": [
      "pygame 1.9.6\n",
      "Hello from the pygame community. https://www.pygame.org/contribute.html\n",
      "<Event(5-MouseButtonDown {'pos': (166, 122), 'button': 1, 'window': None})>\n",
      "<Event(5-MouseButtonDown {'pos': (123, 88), 'button': 1, 'window': None})>\n",
      "<Event(5-MouseButtonDown {'pos': (205, 45), 'button': 1, 'window': None})>\n",
      "<Event(5-MouseButtonDown {'pos': (75, 128), 'button': 1, 'window': None})>\n",
      "<Event(5-MouseButtonDown {'pos': (210, 158), 'button': 1, 'window': None})>\n",
      "<Event(5-MouseButtonDown {'pos': (212, 75), 'button': 1, 'window': None})>\n",
      "<Event(5-MouseButtonDown {'pos': (118, 58), 'button': 1, 'window': None})>\n",
      "<Event(5-MouseButtonDown {'pos': (42, 125), 'button': 1, 'window': None})>\n",
      "<Event(5-MouseButtonDown {'pos': (196, 138), 'button': 1, 'window': None})>\n",
      "<Event(5-MouseButtonDown {'pos': (203, 69), 'button': 1, 'window': None})>\n",
      "<Event(5-MouseButtonDown {'pos': (97, 60), 'button': 1, 'window': None})>\n",
      "<Event(5-MouseButtonDown {'pos': (9, 136), 'button': 1, 'window': None})>\n",
      "<Event(5-MouseButtonDown {'pos': (144, 153), 'button': 1, 'window': None})>\n",
      "<Event(5-MouseButtonDown {'pos': (219, 81), 'button': 1, 'window': None})>\n",
      "<Event(5-MouseButtonDown {'pos': (170, 27), 'button': 1, 'window': None})>\n",
      "<Event(5-MouseButtonDown {'pos': (43, 75), 'button': 1, 'window': None})>\n",
      "<Event(5-MouseButtonDown {'pos': (169, 145), 'button': 1, 'window': None})>\n",
      "<Event(5-MouseButtonDown {'pos': (235, 133), 'button': 1, 'window': None})>\n",
      "<Event(5-MouseButtonDown {'pos': (224, 64), 'button': 1, 'window': None})>\n",
      "<Event(5-MouseButtonDown {'pos': (146, 52), 'button': 1, 'window': None})>\n",
      "<Event(5-MouseButtonDown {'pos': (138, 118), 'button': 1, 'window': None})>\n",
      "<Event(5-MouseButtonDown {'pos': (220, 138), 'button': 1, 'window': None})>\n",
      "<Event(5-MouseButtonDown {'pos': (233, 113), 'button': 1, 'window': None})>\n",
      "<Event(5-MouseButtonDown {'pos': (191, 62), 'button': 1, 'window': None})>\n",
      "<Event(5-MouseButtonDown {'pos': (154, 88), 'button': 1, 'window': None})>\n",
      "<Event(5-MouseButtonDown {'pos': (113, 126), 'button': 1, 'window': None})>\n",
      "<Event(5-MouseButtonDown {'pos': (84, 114), 'button': 1, 'window': None})>\n",
      "<Event(5-MouseButtonDown {'pos': (226, 97), 'button': 1, 'window': None})>\n",
      "<Event(5-MouseButtonDown {'pos': (159, 139), 'button': 1, 'window': None})>\n",
      "<Event(5-MouseButtonDown {'pos': (79, 75), 'button': 1, 'window': None})>\n",
      "<Event(5-MouseButtonDown {'pos': (167, 42), 'button': 1, 'window': None})>\n",
      "<Event(5-MouseButtonDown {'pos': (211, 135), 'button': 1, 'window': None})>\n",
      "<Event(5-MouseButtonDown {'pos': (77, 100), 'button': 1, 'window': None})>\n",
      "<Event(5-MouseButtonDown {'pos': (160, 33), 'button': 1, 'window': None})>\n",
      "<Event(5-MouseButtonDown {'pos': (203, 108), 'button': 1, 'window': None})>\n",
      "<Event(5-MouseButtonDown {'pos': (121, 124), 'button': 1, 'window': None})>\n"
     ]
    }
   ],
   "source": [
    "import pygame\n",
    "\n",
    "BLACK = 0, 0, 0\n",
    "WHITE = 255,255,255\n",
    "\n",
    "pygame.init()\n",
    "screen = pygame.display.set_mode((300, 200))\n",
    "\n",
    "square = pygame.Rect(30, 50, 20, 20)\n",
    "\n",
    "while True:\n",
    "\n",
    "    for event in pygame.event.get():\n",
    "        if (event.type == 5):\n",
    "            print(event)\n",
    "            square.left = event.pos[0]\n",
    "            square.top = event.pos[1]\n",
    "\n",
    "    screen.fill(BLACK)\n",
    "    \n",
    "    pygame.draw.rect(screen, WHITE, square)\n",
    "    \n",
    "    pygame.display.update()\n"
   ]
  },
  {
   "cell_type": "code",
   "execution_count": null,
   "metadata": {},
   "outputs": [],
   "source": []
  }
 ],
 "metadata": {
  "kernelspec": {
   "display_name": "Python 3",
   "language": "python",
   "name": "python3"
  },
  "language_info": {
   "codemirror_mode": {
    "name": "ipython",
    "version": 3
   },
   "file_extension": ".py",
   "mimetype": "text/x-python",
   "name": "python",
   "nbconvert_exporter": "python",
   "pygments_lexer": "ipython3",
   "version": "3.7.3"
  }
 },
 "nbformat": 4,
 "nbformat_minor": 2
}
