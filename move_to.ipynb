{
 "cells": [
  {
   "cell_type": "code",
   "execution_count": null,
   "metadata": {},
   "outputs": [
    {
     "name": "stdout",
     "output_type": "stream",
     "text": [
      "pygame 1.9.6\n",
      "Hello from the pygame community. https://www.pygame.org/contribute.html\n",
      "chegou\n",
      "divisao por 0 137 137\n",
      "chegou\n",
      "divisao por 0 176 176\n",
      "divisao por 0 189 189\n",
      "chegou\n",
      "chegou\n",
      "divisao por 0 135 135\n",
      "chegou\n",
      "chegou\n",
      "divisao por 0 104 104\n",
      "divisao por 0 161 161\n",
      "divisao por 0 210 210\n"
     ]
    }
   ],
   "source": [
    "import pygame\n",
    "import sys\n",
    "\n",
    "BLACK = pygame.Color(0, 0, 0)\n",
    "WHITE = pygame.Color(255, 255, 255)\n",
    "RED = pygame.Color(255, 0, 0)\n",
    "\n",
    "pygame.init()\n",
    "\n",
    "screen = pygame.display.set_mode((300, 300))\n",
    "\n",
    "clock = pygame.time.Clock()\n",
    "\n",
    "square = pygame.Rect(0, 0, 20, 20)\n",
    "\n",
    "velocity = 0.1\n",
    "\n",
    "destiny = 0, 0\n",
    "\n",
    "pos_x = pos_y = 0\n",
    "\n",
    "a = b = x1 = x2 = y1 = y2 = 0\n",
    "\n",
    "font = pygame.font.Font('freesansbold.ttf', 12)\n",
    "\n",
    "while True:\n",
    "    \n",
    "    dt = clock.tick(60)\n",
    "    \n",
    "    events = pygame.event.get()\n",
    "    \n",
    "    for event in events:\n",
    "        if event.type == 5:\n",
    "            destiny = event.pos\n",
    "            \n",
    "    screen.fill(BLACK)        \n",
    "    \n",
    "    if (destiny[0] != 0 or destiny[1] != 0):\n",
    "        x1 = square.centerx\n",
    "        y1 = square.centery\n",
    "        x2 = destiny[0]\n",
    "        y2 = destiny[1]\n",
    "        \n",
    "        pygame.draw.line(screen, RED, (x1, y1), (x2, y2), 1)\n",
    "        \n",
    "        try:\n",
    "            a = b = 0\n",
    "            \n",
    "            if ((x2 - x1) != 0):\n",
    "                a = (y2 - y1) / (x2 - x1)\n",
    "                b = ((y1 * x2) - (y2 * x1)) / (x2 - x1)\n",
    "            else:\n",
    "                print('divisao por 0', x2, x1)\n",
    "                #pygame.quit()\n",
    "                #sys.exit()\n",
    "                destiny = 0, 0\n",
    "                continue\n",
    "                \n",
    "                \n",
    "        except Exception as e:\n",
    "            print('except', e)\n",
    "            pygame.quit()\n",
    "            sys.exit()\n",
    "\n",
    "        x = square.centerx\n",
    "        y = (a * x) + b\n",
    "        \n",
    "        \n",
    "        pos_x = velocity * dt\n",
    "        if (destiny[0] < x):\n",
    "            pos_x = -pos_x\n",
    "        if (destiny[0] == x):\n",
    "            pos_x = 0\n",
    "\n",
    "        pos_y = velocity * dt\n",
    "        if (destiny[1] < y):\n",
    "            pos_y = -pos_y\n",
    "        if (destiny[1] == y):\n",
    "            pos_y = 0\n",
    "            \n",
    "        if (pos_y != 0):\n",
    "            square.move_ip(0, pos_y)\n",
    "            \n",
    "        #verifica se deve andar\n",
    "        if (pos_x != 0):\n",
    "            square.move_ip(pos_x, 0)\n",
    "            \n",
    "        #verifica se chegou\n",
    "        if (square.centerx == destiny[0] and square.centery == destiny[1]):\n",
    "            print('chegou')\n",
    "            destiny = 0, 0\n",
    "            \n",
    "        #verifica se deve andar no eixo x\n",
    "        #if (x != destiny[0]):\n",
    "            #square.move_ip(pos_x, 0)\n",
    "            \n",
    "        #verifica se deve andar no eixo y\n",
    "        #if (y != destiny[1]):\n",
    "            #square.move_ip(0, pos_y)\n",
    "            \n",
    "        \n",
    "\n",
    "    str_pos_square = 'square x=' + str(square.centerx) + ', y=' + str(square.centery)\n",
    "    text_square = font.render(str_pos_square, True, WHITE)\n",
    "    text_rect_square = text_square.get_rect()\n",
    "    text_rect_square.center = (150, 260)\n",
    "    \n",
    "    screen.blit(text_square, text_rect_square)\n",
    "    \n",
    "    str_destiny = 'destiny x=' + str(destiny[0]) + ', y=' + str(destiny[1])\n",
    "    text_destiny = font.render(str_destiny, True, WHITE)\n",
    "    text_rect_destiny = text_destiny.get_rect()\n",
    "    text_rect_destiny.center = (150, 280)\n",
    "    \n",
    "    screen.blit(text_destiny, text_rect_destiny)\n",
    "    \n",
    "    pygame.draw.rect(screen, WHITE, square)\n",
    "    \n",
    "    pygame.display.flip()\n"
   ]
  },
  {
   "cell_type": "code",
   "execution_count": 12,
   "metadata": {},
   "outputs": [],
   "source": [
    "p.sumX(3)"
   ]
  },
  {
   "cell_type": "code",
   "execution_count": 13,
   "metadata": {},
   "outputs": [
    {
     "name": "stdout",
     "output_type": "stream",
     "text": [
      "3 0\n"
     ]
    }
   ],
   "source": [
    "p.printXY()"
   ]
  },
  {
   "cell_type": "code",
   "execution_count": 14,
   "metadata": {},
   "outputs": [],
   "source": [
    "p.sumY(5)"
   ]
  },
  {
   "cell_type": "code",
   "execution_count": 15,
   "metadata": {},
   "outputs": [
    {
     "name": "stdout",
     "output_type": "stream",
     "text": [
      "3 5\n"
     ]
    }
   ],
   "source": [
    "p.printXY()"
   ]
  },
  {
   "cell_type": "code",
   "execution_count": 16,
   "metadata": {},
   "outputs": [
    {
     "name": "stdout",
     "output_type": "stream",
     "text": [
      "<class 'object'>\n",
      "aqui\n",
      "<__main__.Player object at 0x7f624414c748>\n",
      "0 0\n"
     ]
    }
   ],
   "source": [
    "p = Player()"
   ]
  },
  {
   "cell_type": "code",
   "execution_count": 17,
   "metadata": {},
   "outputs": [
    {
     "name": "stdout",
     "output_type": "stream",
     "text": [
      "0 0\n"
     ]
    }
   ],
   "source": [
    "p.printXY()"
   ]
  },
  {
   "cell_type": "code",
   "execution_count": 2,
   "metadata": {},
   "outputs": [
    {
     "data": {
      "text/plain": [
       "'square x=1, y=2'"
      ]
     },
     "execution_count": 2,
     "metadata": {},
     "output_type": "execute_result"
    }
   ],
   "source": [
    "'square x=' + '1' + ', y=' + '2'"
   ]
  },
  {
   "cell_type": "code",
   "execution_count": null,
   "metadata": {},
   "outputs": [],
   "source": []
  }
 ],
 "metadata": {
  "kernelspec": {
   "display_name": "Python 3",
   "language": "python",
   "name": "python3"
  },
  "language_info": {
   "codemirror_mode": {
    "name": "ipython",
    "version": 3
   },
   "file_extension": ".py",
   "mimetype": "text/x-python",
   "name": "python",
   "nbconvert_exporter": "python",
   "pygments_lexer": "ipython3",
   "version": "3.7.3"
  }
 },
 "nbformat": 4,
 "nbformat_minor": 2
}
