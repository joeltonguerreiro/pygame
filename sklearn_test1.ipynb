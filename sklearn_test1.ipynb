{
 "cells": [
  {
   "cell_type": "code",
   "execution_count": 198,
   "metadata": {},
   "outputs": [
    {
     "name": "stdout",
     "output_type": "stream",
     "text": [
      "[1]\n",
      "[1]\n",
      "[0]\n",
      "[1]\n",
      "[0]\n"
     ]
    },
    {
     "name": "stderr",
     "output_type": "stream",
     "text": [
      "/home/joeltonguerreiro/workspace/python/env3/lib/python3.7/site-packages/sklearn/neural_network/multilayer_perceptron.py:566: ConvergenceWarning: Stochastic Optimizer: Maximum iterations (200) reached and the optimization hasn't converged yet.\n",
      "  % self.max_iter, ConvergenceWarning)\n"
     ]
    }
   ],
   "source": [
    "## from sklearn.neural_network import MLPClassifier\n",
    "\n",
    "X = [[0], [1], [1.1], [1.2], [1.3]]\n",
    "y = [1, 1, 0, 0, 0]\n",
    "\n",
    "# create mutli-layer perceptron classifier\n",
    "clf = MLPClassifier(solver='sgd', alpha=0.0001,\n",
    "                    #hidden_layer_sizes=(50, 10), \n",
    "                    #random_state = 1,\n",
    "                    #verbose = True, \n",
    "                    #max_iter = 5,\n",
    "                    learning_rate = 'adaptive', \n",
    "                    activation = 'logistic',\n",
    "                   warm_start = True,\n",
    "                   #shuffle = True,\n",
    "                   learning_rate_init = 1)\n",
    "\n",
    "# train\n",
    "clf.fit(X, y)\n",
    "\n",
    "#print(clf.coefs_)\n",
    "\n",
    "# make predictions\n",
    "#print( clf.score([[1]], [[]]) )\n",
    "\n",
    "print(clf.predict([[0]]))\n",
    "print(clf.predict([[1]]))\n",
    "print(clf.predict([[2]]))\n",
    "print(clf.predict([[0.5]]))\n",
    "print(clf.predict([[4]]))\n",
    "\n",
    "#print(clf.predict([[0., 0.]]))\n",
    "\n",
    "\n"
   ]
  },
  {
   "cell_type": "code",
   "execution_count": 52,
   "metadata": {},
   "outputs": [
    {
     "name": "stdout",
     "output_type": "stream",
     "text": [
      "[[1 1]]\n",
      "[[0 1]]\n"
     ]
    }
   ],
   "source": [
    "X = [[0., 0.], [1., 1.]]\n",
    "y = [[0, 1], [1, 1]]\n",
    "clf = MLPClassifier(solver='lbfgs', alpha=1e-5,\n",
    "                    hidden_layer_sizes=(15,), random_state=1,\n",
    "                   verbose = True)\n",
    "\n",
    "clf.fit(X, y)                         \n",
    "\n",
    "print(clf.predict([[1., 2.]]))\n",
    "\n",
    "print(clf.predict([[0., 0.]]))"
   ]
  },
  {
   "cell_type": "code",
   "execution_count": null,
   "metadata": {},
   "outputs": [],
   "source": []
  },
  {
   "cell_type": "code",
   "execution_count": null,
   "metadata": {},
   "outputs": [],
   "source": []
  }
 ],
 "metadata": {
  "kernelspec": {
   "display_name": "Python 3",
   "language": "python",
   "name": "python3"
  },
  "language_info": {
   "codemirror_mode": {
    "name": "ipython",
    "version": 3
   },
   "file_extension": ".py",
   "mimetype": "text/x-python",
   "name": "python",
   "nbconvert_exporter": "python",
   "pygments_lexer": "ipython3",
   "version": "3.7.3"
  }
 },
 "nbformat": 4,
 "nbformat_minor": 2
}
